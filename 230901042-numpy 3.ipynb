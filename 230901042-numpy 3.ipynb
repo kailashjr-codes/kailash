{
 "cells": [
  {
   "cell_type": "code",
   "execution_count": 5,
   "id": "a9a9e785-0dfd-4909-abfb-b7ab83a511ed",
   "metadata": {},
   "outputs": [
    {
     "name": "stdout",
     "output_type": "stream",
     "text": [
      "(array([1, 4]),)\n"
     ]
    }
   ],
   "source": [
    "import numpy as np\n",
    "arr=np.array([1,6,2,7,6,4])\n",
    "x=np.where(arr==6)\n",
    "print(x)\n"
   ]
  },
  {
   "cell_type": "code",
   "execution_count": 9,
   "id": "096c729e-3344-45b4-89b8-026d2ef3b968",
   "metadata": {},
   "outputs": [
    {
     "name": "stdout",
     "output_type": "stream",
     "text": [
      "(array([1, 2, 4, 5]),)\n"
     ]
    }
   ],
   "source": [
    "arr=np.array([1,6,2,7,6,4])\n",
    "x=np.where(arr%2==0)\n",
    "print(x)"
   ]
  },
  {
   "cell_type": "code",
   "execution_count": 39,
   "id": "839baf6f-6d6b-4a58-9a53-35c283f99a2f",
   "metadata": {},
   "outputs": [
    {
     "name": "stdout",
     "output_type": "stream",
     "text": [
      "5\n"
     ]
    }
   ],
   "source": [
    "arr=np.array([0,1,2,2,3,8,9])\n",
    "x=np.searchsorted(arr,8,side='left')\n",
    "print(x)"
   ]
  },
  {
   "cell_type": "code",
   "execution_count": 41,
   "id": "792fb5b5-b9dd-4c2a-bc60-607e5bef7d9a",
   "metadata": {},
   "outputs": [
    {
     "name": "stdout",
     "output_type": "stream",
     "text": [
      "[[4 7 9]\n",
      " [1 4 9]]\n"
     ]
    }
   ],
   "source": [
    "arr=np.array([[7,4,9],[9,1,4]])\n",
    "print(np.sort(arr))"
   ]
  },
  {
   "cell_type": "code",
   "execution_count": 43,
   "id": "679c3153-8444-4fe8-99c4-c92c9c79cefc",
   "metadata": {},
   "outputs": [
    {
     "name": "stdout",
     "output_type": "stream",
     "text": [
      "[False, True, False, True]\n",
      "[ 78 100]\n"
     ]
    }
   ],
   "source": [
    "arr=np.array([31,78,91,100])\n",
    "x=[False,True,False,True]\n",
    "newarr=arr[x]\n",
    "print(x)\n",
    "print(newarr)"
   ]
  },
  {
   "cell_type": "code",
   "execution_count": 45,
   "id": "56c8bad5-303c-44e6-b214-7ccf8fa38697",
   "metadata": {},
   "outputs": [
    {
     "name": "stdout",
     "output_type": "stream",
     "text": [
      "[False  True  True  True]\n",
      "[ 78  91 100]\n"
     ]
    }
   ],
   "source": [
    "filter=arr>70\n",
    "newarr=arr[filter]\n",
    "print(filter)\n",
    "print(newarr)"
   ]
  },
  {
   "cell_type": "code",
   "execution_count": null,
   "id": "90bf8e8c-7b43-4579-b419-ca5fe7662d9e",
   "metadata": {},
   "outputs": [],
   "source": []
  }
 ],
 "metadata": {
  "kernelspec": {
   "display_name": "Python 3 (ipykernel)",
   "language": "python",
   "name": "python3"
  },
  "language_info": {
   "codemirror_mode": {
    "name": "ipython",
    "version": 3
   },
   "file_extension": ".py",
   "mimetype": "text/x-python",
   "name": "python",
   "nbconvert_exporter": "python",
   "pygments_lexer": "ipython3",
   "version": "3.12.4"
  }
 },
 "nbformat": 4,
 "nbformat_minor": 5
}
