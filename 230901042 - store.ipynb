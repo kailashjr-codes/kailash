{
 "cells": [
  {
   "cell_type": "code",
   "execution_count": 92,
   "id": "5c707fe1-5227-4756-b28b-be8433f8f3aa",
   "metadata": {},
   "outputs": [
    {
     "name": "stdout",
     "output_type": "stream",
     "text": [
      "       a  b  c\n",
      "one    1  2  3\n",
      "two    4  5  6\n",
      "three  7  8  9\n"
     ]
    }
   ],
   "source": [
    "import pandas as pd\n",
    "df=pd.DataFrame([[1,2,3],[4,5,6],[7,8,9]],index=['one','two','three'],columns=['a','b','c'])\n",
    "print(df)"
   ]
  },
  {
   "cell_type": "code",
   "execution_count": 94,
   "id": "759f70b8-3a14-4e2d-911b-9ce7de45bcd4",
   "metadata": {},
   "outputs": [],
   "source": [
    "df.to_excel(\"/Users/student/Downloads/kailash xlsx.xlsx\")\n",
    "\n",
    "    "
   ]
  },
  {
   "cell_type": "code",
   "execution_count": 96,
   "id": "ae0e3e40-06d7-4c40-8009-0d98f41d466c",
   "metadata": {},
   "outputs": [
    {
     "name": "stdout",
     "output_type": "stream",
     "text": [
      "       x   y   z\n",
      "four  10  20  30\n",
      "five  40  50  60\n",
      "six   70  80  90\n"
     ]
    }
   ],
   "source": [
    "df=pd.DataFrame([[10,20,30],[40,50,60],[70,80,90]],index=['four','five','six'],columns=['x','y','z'])\n",
    "print(df)"
   ]
  },
  {
   "cell_type": "code",
   "execution_count": 98,
   "id": "fa2e3388-9a28-457c-880e-d717d45025a5",
   "metadata": {},
   "outputs": [],
   "source": [
    "df.to_excel(\"/Users/student/Downloads/kailash xlsx1.xlsx\")"
   ]
  },
  {
   "cell_type": "code",
   "execution_count": 100,
   "id": "7f3443ac-00a7-4d5a-b10e-5b4bcc86435a",
   "metadata": {},
   "outputs": [],
   "source": [
    "df=pd.DataFrame([[6,7],[1,2]],index=['a','b'],columns=['x','y'])\n"
   ]
  },
  {
   "cell_type": "code",
   "execution_count": 102,
   "id": "5928fc2f-4226-4aa0-bd10-166fd50bbf9f",
   "metadata": {},
   "outputs": [],
   "source": [
    "df.to_excel(\"/Users/student/Downloads/kailash xlsx1.xlsx\")"
   ]
  },
  {
   "cell_type": "code",
   "execution_count": 110,
   "id": "1d0068fc-fed4-4bbd-87a5-8ec2e4537379",
   "metadata": {},
   "outputs": [],
   "source": [
    "X=pd.read_excel(\"/Users/student/Downloads/kailash xlsx.xlsx\")\n",
    "Y=pd.read_excel(\"/Users/student/Downloads/kailash xlsx1.xlsx\")\n",
    "Z=pd.concat([X,Y])\n",
    "Z.to_excel(\"/Users/student/Downloads/kailash xlsx2.xlsx\")"
   ]
  },
  {
   "cell_type": "code",
   "execution_count": 112,
   "id": "980b7692-1b53-4af8-a237-04a5f6b21199",
   "metadata": {},
   "outputs": [
    {
     "name": "stdout",
     "output_type": "stream",
     "text": [
      "  Unnamed: 0    a    b    c    x    y\n",
      "1          b  NaN  NaN  NaN  1.0  2.0\n",
      "0          a  NaN  NaN  NaN  6.0  7.0\n",
      "0        one  1.0  2.0  3.0  NaN  NaN\n",
      "1        two  4.0  5.0  6.0  NaN  NaN\n",
      "2      three  7.0  8.0  9.0  NaN  NaN\n"
     ]
    }
   ],
   "source": [
    "import pandas as pd\n",
    "df=Z.sort_values([\"x\"])\n",
    "print(df)\n",
    "df.to_excel(\"/Users/student/Downloads/kailash xlsx2.xlsx\")"
   ]
  },
  {
   "cell_type": "code",
   "execution_count": 114,
   "id": "25f7ef5e-33e2-44b8-8f9c-36634253b08f",
   "metadata": {},
   "outputs": [
    {
     "name": "stdout",
     "output_type": "stream",
     "text": [
      "  Unnamed: 0    a    b    c    x    y\n",
      "1          b  NaN  NaN  NaN  1.0  2.0\n",
      "0          a  NaN  NaN  NaN  6.0  7.0\n",
      "0        one  1.0  2.0  3.0  NaN  NaN\n",
      "1        two  4.0  5.0  6.0  NaN  NaN\n",
      "2      three  7.0  8.0  9.0  NaN  NaN\n"
     ]
    }
   ],
   "source": [
    "df=Z.sort_values([\"y\"])\n",
    "print(df)\n",
    "df.to_excel(\"/Users/student/Downloads/kailash xlsx2.xlsx\")"
   ]
  },
  {
   "cell_type": "code",
   "execution_count": 120,
   "id": "bda4b2a6-813a-4e7d-8c7b-bc48960f4dfa",
   "metadata": {},
   "outputs": [
    {
     "name": "stdout",
     "output_type": "stream",
     "text": [
      "  Unnamed: 0  a  b  c\n",
      "0        one  1  2  3\n",
      "1        two  4  5  6\n",
      "2      three  7  8  9 \n",
      "\n",
      "['Unnamed: 0', 'a', 'b', 'c'] \n",
      "\n",
      "3 \n",
      "\n"
     ]
    }
   ],
   "source": [
    "df=pd.read_excel(\"/Users/student/Downloads/kailash xlsx.xlsx\")\n",
    "print(df,\"\\n\")\n",
    "print(list(df),\"\\n\")\n",
    "print(format(len(df)),\"\\n\")"
   ]
  },
  {
   "cell_type": "code",
   "execution_count": null,
   "id": "a44a8eb2-1020-4589-adcc-be9aef9ae7de",
   "metadata": {},
   "outputs": [],
   "source": []
  }
 ],
 "metadata": {
  "kernelspec": {
   "display_name": "Python 3 (ipykernel)",
   "language": "python",
   "name": "python3"
  },
  "language_info": {
   "codemirror_mode": {
    "name": "ipython",
    "version": 3
   },
   "file_extension": ".py",
   "mimetype": "text/x-python",
   "name": "python",
   "nbconvert_exporter": "python",
   "pygments_lexer": "ipython3",
   "version": "3.12.4"
  }
 },
 "nbformat": 4,
 "nbformat_minor": 5
}
