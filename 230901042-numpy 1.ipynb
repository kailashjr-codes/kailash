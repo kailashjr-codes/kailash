{
 "cells": [
  {
   "cell_type": "code",
   "execution_count": 1,
   "id": "0a22f5a1",
   "metadata": {},
   "outputs": [
    {
     "name": "stdout",
     "output_type": "stream",
     "text": [
      "One Dimensional array:\n",
      " [10 20 30 40]\n"
     ]
    }
   ],
   "source": [
    "import numpy as np\n",
    "a=np.array([10,20,30,40])\n",
    "print(\"One Dimensional array:\\n\",a)"
   ]
  },
  {
   "cell_type": "code",
   "execution_count": 3,
   "id": "692ca113",
   "metadata": {},
   "outputs": [
    {
     "name": "stdout",
     "output_type": "stream",
     "text": [
      "Two Dimensional array:\n",
      " [[10 20 30 40]\n",
      " [50 60 70 80]]\n"
     ]
    }
   ],
   "source": [
    "import numpy as np\n",
    "b=np.array([[10,20,30,40],[50,60,70,80]])\n",
    "print(\"Two Dimensional array:\\n\",b)"
   ]
  },
  {
   "cell_type": "code",
   "execution_count": 8,
   "id": "683e55e5",
   "metadata": {},
   "outputs": [
    {
     "name": "stdout",
     "output_type": "stream",
     "text": [
      "Three Dimensional array:\n",
      " [[ 10  20  30  40]\n",
      " [ 50  60  70  80]\n",
      " [ 90 100 110 120]]\n"
     ]
    }
   ],
   "source": [
    "import numpy as np\n",
    "c=np.array([[10,20,30,40],[50,60,70,80],[90,100,110,120]])\n",
    "print(\"Three Dimensional array:\\n\",c)"
   ]
  },
  {
   "cell_type": "code",
   "execution_count": 5,
   "id": "2c4224af",
   "metadata": {},
   "outputs": [
    {
     "name": "stdout",
     "output_type": "stream",
     "text": [
      "Array with all zeros:\n",
      " [[0. 0. 0. 0. 0.]\n",
      " [0. 0. 0. 0. 0.]\n",
      " [0. 0. 0. 0. 0.]]\n"
     ]
    }
   ],
   "source": [
    "import numpy as np\n",
    "d=np.zeros((3,5))\n",
    "print(\"Array with all zeros:\\n\",d)"
   ]
  },
  {
   "cell_type": "code",
   "execution_count": 6,
   "id": "b1283027",
   "metadata": {},
   "outputs": [
    {
     "name": "stdout",
     "output_type": "stream",
     "text": [
      "\n",
      "Random value:\n",
      " [[0.58129539 0.56067485 0.99197945]\n",
      " [0.45644843 0.22265461 0.12042483]]\n"
     ]
    }
   ],
   "source": [
    "import numpy as np\n",
    "e=np.random.random((2,3))\n",
    "print(\"\\nRandom value:\\n\",e)"
   ]
  },
  {
   "cell_type": "code",
   "execution_count": 12,
   "id": "619e01c0",
   "metadata": {},
   "outputs": [
    {
     "name": "stdout",
     "output_type": "stream",
     "text": [
      "\n",
      "Sequence array:\n",
      " [20 25 30 35 40 45 50 55]\n"
     ]
    }
   ],
   "source": [
    "import numpy as np\n",
    "f=np.arange(20,60,5)\n",
    "print(\"\\nSequence array:\\n\",f)"
   ]
  },
  {
   "cell_type": "code",
   "execution_count": 10,
   "id": "25258246",
   "metadata": {},
   "outputs": [
    {
     "name": "stdout",
     "output_type": "stream",
     "text": [
      "\n",
      "normal three dimensional array:\n",
      " [[ 10  20  30  40]\n",
      " [ 50  60  70  80]\n",
      " [ 90 100 110 120]] \n",
      "reshaped array:\n",
      " [[ 10  20  30]\n",
      " [ 40  50  60]\n",
      " [ 70  80  90]\n",
      " [100 110 120]]\n"
     ]
    }
   ],
   "source": [
    "import numpy as np\n",
    "g=np.array([[10,20,30,40],[50,60,70,80],[90,100,110,120]])\n",
    "h=g.reshape(4,3)\n",
    "print(\"\\nnormal three dimensional array:\\n\",g,\"\\nreshaped array:\\n\",h)"
   ]
  },
  {
   "cell_type": "code",
   "execution_count": 11,
   "id": "1e424d39",
   "metadata": {},
   "outputs": [
    {
     "name": "stdout",
     "output_type": "stream",
     "text": [
      "\n",
      "normal three dimensional array:\n",
      " [[ 10  20  30  40]\n",
      " [ 50  60  70  80]\n",
      " [ 90 100 110 120]] \n",
      "Flatten array:\n",
      " [ 10  20  30  40  50  60  70  80  90 100 110 120]\n"
     ]
    }
   ],
   "source": [
    "import numpy as np\n",
    "g=np.array([[10,20,30,40],[50,60,70,80],[90,100,110,120]])\n",
    "i=g.flatten()\n",
    "print(\"\\nnormal three dimensional array:\\n\",g,\"\\nFlatten array:\\n\",i)"
   ]
  },
  {
   "cell_type": "code",
   "execution_count": 20,
   "id": "b3f0576a",
   "metadata": {},
   "outputs": [
    {
     "name": "stdout",
     "output_type": "stream",
     "text": [
      "\n",
      "Array dimension:\n",
      " 3\n"
     ]
    }
   ],
   "source": [
    "import numpy as np\n",
    "g=np.array([[[10,20,30,40],[50,60,70,80]],[[90,100,110,120],[130,140,150,160]]])\n",
    "print(\"\\nArray dimension:\\n\",g.ndim)"
   ]
  },
  {
   "cell_type": "code",
   "execution_count": 21,
   "id": "9b6474e8",
   "metadata": {},
   "outputs": [
    {
     "name": "stdout",
     "output_type": "stream",
     "text": [
      "Shape of the array:\n",
      " (3, 4)\n"
     ]
    }
   ],
   "source": [
    "import numpy as np\n",
    "c=np.array([[10,20,30,40],[50,60,70,80],[90,100,110,120]])\n",
    "print(\"Shape of the array:\\n\",c.shape)"
   ]
  },
  {
   "cell_type": "code",
   "execution_count": 23,
   "id": "079b977d",
   "metadata": {},
   "outputs": [
    {
     "name": "stdout",
     "output_type": "stream",
     "text": [
      "Datatype of the array:\n",
      " int64\n"
     ]
    }
   ],
   "source": [
    "import numpy as np\n",
    "c=np.array([[10,20,30,40],[50,60,70,80],[90,100,110,120]])\n",
    "print(\"Datatype of the array:\\n\",c.dtype)"
   ]
  },
  {
   "cell_type": "code",
   "execution_count": 27,
   "id": "341b89e9",
   "metadata": {},
   "outputs": [
    {
     "name": "stdout",
     "output_type": "stream",
     "text": [
      "size of the array:\n",
      " 3\n"
     ]
    }
   ],
   "source": [
    "import numpy as np\n",
    "c=np.array([[10,20,30,40],[50,60,70,80],[90,100,110,120]])\n",
    "size=len(c)\n",
    "print(\"size of the array:\\n\",size)"
   ]
  },
  {
   "cell_type": "code",
   "execution_count": 2,
   "id": "0133106b",
   "metadata": {},
   "outputs": [
    {
     "name": "stdout",
     "output_type": "stream",
     "text": [
      "[1 2 3]\n",
      "[1. 2. 3.]\n",
      "float64\n"
     ]
    }
   ],
   "source": [
    "import numpy as np\n",
    "a=[1,2,3]\n",
    "a=np.array(a)\n",
    "newtype=a.astype('float64')\n",
    "print(a)\n",
    "print(newtype)\n",
    "print(newtype.dtype)"
   ]
  },
  {
   "cell_type": "code",
   "execution_count": null,
   "id": "44db2af3",
   "metadata": {},
   "outputs": [],
   "source": []
  }
 ],
 "metadata": {
  "kernelspec": {
   "display_name": "Python 3 (ipykernel)",
   "language": "python",
   "name": "python3"
  },
  "language_info": {
   "codemirror_mode": {
    "name": "ipython",
    "version": 3
   },
   "file_extension": ".py",
   "mimetype": "text/x-python",
   "name": "python",
   "nbconvert_exporter": "python",
   "pygments_lexer": "ipython3",
   "version": "3.11.5"
  }
 },
 "nbformat": 4,
 "nbformat_minor": 5
}
