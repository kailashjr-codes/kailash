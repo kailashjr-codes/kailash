{
 "cells": [
  {
   "cell_type": "code",
   "execution_count": 2,
   "id": "894bb000-bd17-44cb-a709-e4c743acee88",
   "metadata": {},
   "outputs": [
    {
     "name": "stdout",
     "output_type": "stream",
     "text": [
      "  name  age\n",
      "0  sai   20\n",
      "1  sub   21\n",
      "2  poo   22\n",
      "   qualified\n",
      "0       True\n",
      "1       True\n",
      "2      False\n",
      "  name  age  qualified\n",
      "0  sai   20       True\n",
      "1  sub   21       True\n",
      "2  poo   22      False\n"
     ]
    }
   ],
   "source": [
    "import pandas as pd\n",
    "d1={\"name\":[\"sai\",\"sub\",\"poo\"],\"age\":[20,21,22]}\n",
    "d2={\"qualified\":[True,True,False]}\n",
    "df1=pd.DataFrame(d1)\n",
    "print(df1)\n",
    "df2=pd.DataFrame(d2)\n",
    "print(df2)\n",
    "newdf=df1.join(df2)\n",
    "print(newdf)"
   ]
  },
  {
   "cell_type": "code",
   "execution_count": 4,
   "id": "b0d50606-a526-4e0c-9464-070663b1dd80",
   "metadata": {},
   "outputs": [
    {
     "name": "stdout",
     "output_type": "stream",
     "text": [
      "  name  age\n",
      "0  sai   20\n",
      "1  sub   21\n",
      "2  poo   22\n",
      "   name  age\n",
      "0   kai   20\n",
      "1  kani   21\n",
      "2  hari   22\n",
      "  name_x  age name_y\n",
      "0    sai   20    kai\n",
      "1    sub   21   kani\n",
      "2    poo   22   hari\n"
     ]
    }
   ],
   "source": [
    "d2={\"name\":[\"kai\",\"kani\",\"hari\"],\"age\":[20,21,22]}\n",
    "df1=pd.DataFrame(d1)\n",
    "df2=pd.DataFrame(d2)\n",
    "newdf=df1.merge(df2,on=\"age\")\n",
    "print(df1,df2,newdf,sep=\"\\n\")\n"
   ]
  },
  {
   "cell_type": "code",
   "execution_count": 16,
   "id": "08b42c11-c808-4520-baa2-a327f1498510",
   "metadata": {},
   "outputs": [
    {
     "name": "stdout",
     "output_type": "stream",
     "text": [
      "  team  points  assists  rebounds\n",
      "0    A      90       12        56\n",
      "1    B      56       34        43\n",
      "2    C      78       23        55\n",
      "3    D      88       44        12 \n",
      "\n",
      "\n",
      "   team  variable  value\n",
      "0     A    points     90\n",
      "1     B    points     56\n",
      "2     C    points     78\n",
      "3     D    points     88\n",
      "4     A   assists     12\n",
      "5     B   assists     34\n",
      "6     C   assists     23\n",
      "7     D   assists     44\n",
      "8     A  rebounds     56\n",
      "9     B  rebounds     43\n",
      "10    C  rebounds     55\n",
      "11    D  rebounds     12\n"
     ]
    }
   ],
   "source": [
    "df=pd.DataFrame({'team':['A','B','C','D'],\"points\":[90,56,78,88],\"assists\":[12,34,23,44],\"rebounds\":[56,43,55,12]})\n",
    "print(df,'\\n\\n')\n",
    "df=pd.melt(df,id_vars=\"team\",value_vars=[\"points\",\"assists\",\"rebounds\"])\n",
    "print(df)"
   ]
  },
  {
   "cell_type": "code",
   "execution_count": 20,
   "id": "9a160d79-ad57-48e8-bc42-2abbe07ed5ec",
   "metadata": {},
   "outputs": [
    {
     "name": "stdout",
     "output_type": "stream",
     "text": [
      "og dataframe:\n",
      "           Name  Age Gender Marks\n",
      "0          Sai   20      M    90\n",
      "1      Yuvasri   18      F    76\n",
      "2    Poovannan   19      M   NaN\n",
      "3    Sabharish   20      M    74\n",
      "4  Sangamithra   18      F    65\n",
      "5      Rithika   17      F   NaN\n",
      "6      Rubasri   19      F    71\n",
      "\n",
      "replacing NaN with avg marks:\n",
      "           Name  Age Gender  Marks\n",
      "0          Sai   20      M   90.0\n",
      "1      Yuvasri   18      F   76.0\n",
      "2    Poovannan   19      M   75.2\n",
      "3    Sabharish   20      M   74.0\n",
      "4  Sangamithra   18      F   65.0\n",
      "5      Rithika   17      F   75.2\n",
      "6      Rubasri   19      F   71.0\n"
     ]
    },
    {
     "name": "stderr",
     "output_type": "stream",
     "text": [
      "/var/folders/w2/jykwyxmx79n6905fy_4s9glr0000gp/T/ipykernel_5850/3864816700.py:12: FutureWarning: Downcasting behavior in `replace` is deprecated and will be removed in a future version. To retain the old behavior, explicitly call `result.infer_objects(copy=False)`. To opt-in to the future behavior, set `pd.set_option('future.no_silent_downcasting', True)`\n",
      "  df=df.replace(to_replace=\"NaN\",value=avg)\n"
     ]
    }
   ],
   "source": [
    "#data wrangling 2\n",
    "import pandas as pd\n",
    "data={'Name':['Sai','Yuvasri','Poovannan','Sabharish','Sangamithra','Rithika','Rubasri'],'Age':[20,18,19,20,18,17,19],'Gender':['M','F','M','M','F','F','F'],'Marks':[90,76,'NaN',74,65,'NaN',71]}\n",
    "df=pd.DataFrame(data)\n",
    "print(\"og dataframe:\\n\",df)\n",
    "c=avg=0\n",
    "for ele in df['Marks']:\n",
    "    if str(ele).isnumeric():\n",
    "        c+=1\n",
    "        avg+=ele\n",
    "avg=avg/c\n",
    "df=df.replace(to_replace=\"NaN\",value=avg)\n",
    "print(\"\\nreplacing NaN with avg marks:\\n\",df)"
   ]
  },
  {
   "cell_type": "code",
   "execution_count": 22,
   "id": "18431e65-2188-4b4b-a6a8-be3736f8fc90",
   "metadata": {},
   "outputs": [
    {
     "name": "stdout",
     "output_type": "stream",
     "text": [
      "\n",
      "\n",
      " filtering and dropping funtion \n",
      "\n",
      "         Name Gender  Marks\n",
      "0        Sai      M   90.0\n",
      "1    Yuvasri      F   76.0\n",
      "2  Poovannan      M   75.2\n",
      "5    Rithika      F   75.2\n"
     ]
    }
   ],
   "source": [
    "df=df[df['Marks']>=75]\n",
    "df=df.drop(['Age'],axis=1)\n",
    "print(\"\\n\\n filtering and dropping funtion \\n\\n\",df)"
   ]
  },
  {
   "cell_type": "code",
   "execution_count": null,
   "id": "33cb63a7-fb7f-4093-aa78-959598306fe2",
   "metadata": {},
   "outputs": [],
   "source": []
  }
 ],
 "metadata": {
  "kernelspec": {
   "display_name": "Python 3 (ipykernel)",
   "language": "python",
   "name": "python3"
  },
  "language_info": {
   "codemirror_mode": {
    "name": "ipython",
    "version": 3
   },
   "file_extension": ".py",
   "mimetype": "text/x-python",
   "name": "python",
   "nbconvert_exporter": "python",
   "pygments_lexer": "ipython3",
   "version": "3.12.4"
  }
 },
 "nbformat": 4,
 "nbformat_minor": 5
}
